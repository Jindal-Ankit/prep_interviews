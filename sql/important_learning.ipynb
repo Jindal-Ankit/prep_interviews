{
 "cells": [
  {
   "cell_type": "code",
   "id": "initial_id",
   "metadata": {
    "collapsed": true
   },
   "source": [
    "from pyspark.sql import SparkSession\n",
    "spark = SparkSession.builder.master(\"local[*]\").appName(\"sql queries with spark\").getOrCreate()\n",
    "#spark.range(10).show()"
   ],
   "outputs": [],
   "execution_count": null
  },
  {
   "metadata": {},
   "cell_type": "code",
   "outputs": [],
   "execution_count": null,
   "source": "#preparing data",
   "id": "f9c81fe4ca558b8f"
  },
  {
   "metadata": {
    "ExecuteTime": {
     "end_time": "2025-06-20T09:42:36.020368Z",
     "start_time": "2025-06-20T09:42:36.015658Z"
    }
   },
   "cell_type": "code",
   "source": [
    "import os\n",
    "\n"
   ],
   "id": "bca51646aeadca46",
   "outputs": [],
   "execution_count": 1
  },
  {
   "metadata": {
    "ExecuteTime": {
     "end_time": "2025-06-20T09:44:47.395842Z",
     "start_time": "2025-06-20T09:44:47.371484Z"
    }
   },
   "cell_type": "code",
   "source": [
    "os.getcwd()\n",
    "print(os.pardir)\n",
    "print(os.path.join(os.getcwd(), os.pardir))\n",
    "os.path.join(os.getcwd(), os.pardir)"
   ],
   "id": "f2a865d5ecdf6163",
   "outputs": [
    {
     "name": "stdout",
     "output_type": "stream",
     "text": [
      "..\n",
      "/Users/ankit95.kumar/PycharmProjects/prep_interviews/sql/..\n"
     ]
    },
    {
     "data": {
      "text/plain": [
       "['delta_tables',\n",
       " 'artifacts',\n",
       " 'test.py',\n",
       " 'delta_lake_spark_utils.py',\n",
       " 'README.md',\n",
       " '.gitignore',\n",
       " '.git',\n",
       " '.idea',\n",
       " 'sql']"
      ]
     },
     "execution_count": 5,
     "metadata": {},
     "output_type": "execute_result"
    }
   ],
   "execution_count": 5
  }
 ],
 "metadata": {
  "kernelspec": {
   "display_name": "Python 3",
   "language": "python",
   "name": "python3"
  },
  "language_info": {
   "codemirror_mode": {
    "name": "ipython",
    "version": 2
   },
   "file_extension": ".py",
   "mimetype": "text/x-python",
   "name": "python",
   "nbconvert_exporter": "python",
   "pygments_lexer": "ipython2",
   "version": "2.7.6"
  }
 },
 "nbformat": 4,
 "nbformat_minor": 5
}
