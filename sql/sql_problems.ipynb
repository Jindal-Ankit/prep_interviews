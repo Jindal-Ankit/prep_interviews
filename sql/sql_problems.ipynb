{
 "cells": [
  {
   "cell_type": "code",
   "id": "initial_id",
   "metadata": {
    "collapsed": true,
    "ExecuteTime": {
     "end_time": "2025-06-20T10:47:58.342583Z",
     "start_time": "2025-06-20T10:47:58.324133Z"
    }
   },
   "source": "from delta_lake_spark_utils import *",
   "outputs": [],
   "execution_count": 53
  },
  {
   "metadata": {
    "ExecuteTime": {
     "end_time": "2025-06-20T10:47:58.446254Z",
     "start_time": "2025-06-20T10:47:58.377459Z"
    }
   },
   "cell_type": "code",
   "source": "spark = sparksession_with_delta_lake()\n",
   "id": "82cc756a04c9b78d",
   "outputs": [
    {
     "name": "stdout",
     "output_type": "stream",
     "text": [
      "SparkSession created successfully with Delta Lake support!\n"
     ]
    }
   ],
   "execution_count": 54
  },
  {
   "metadata": {
    "ExecuteTime": {
     "end_time": "2025-06-20T10:47:58.555588Z",
     "start_time": "2025-06-20T10:47:58.456695Z"
    }
   },
   "cell_type": "code",
   "source": [
    "create_schema = \"\"\"\n",
    "create schema if not exists banking\n",
    "location '../delta_tables/banking'\n",
    "\"\"\"\n",
    "spark.sql(create_schema)"
   ],
   "id": "fdc8e6c7bac03859",
   "outputs": [
    {
     "data": {
      "text/plain": [
       "DataFrame[]"
      ]
     },
     "execution_count": 55,
     "metadata": {},
     "output_type": "execute_result"
    }
   ],
   "execution_count": 55
  },
  {
   "metadata": {
    "ExecuteTime": {
     "end_time": "2025-06-20T10:47:59.098920Z",
     "start_time": "2025-06-20T10:47:58.566677Z"
    }
   },
   "cell_type": "code",
   "source": [
    "#spark.sql(\"drop table if exists accounts\")\n",
    "accounts_table = \"\"\"\n",
    "CREATE TABLE if not exists banking.accounts (\n",
    "  account_id INT,\n",
    "  customer_id INT,\n",
    "  open_date DATE,\n",
    "  close_date DATE\n",
    ") using delta\n",
    "\"\"\"\n",
    "spark.sql(\"drop table banking.accounts\")\n",
    "spark.sql(accounts_table)"
   ],
   "id": "6afea5150d358b26",
   "outputs": [
    {
     "data": {
      "text/plain": [
       "DataFrame[]"
      ]
     },
     "execution_count": 56,
     "metadata": {},
     "output_type": "execute_result"
    }
   ],
   "execution_count": 56
  },
  {
   "metadata": {
    "ExecuteTime": {
     "end_time": "2025-06-20T10:48:00.810979Z",
     "start_time": "2025-06-20T10:47:59.177283Z"
    }
   },
   "cell_type": "code",
   "source": [
    "insert_data_account = \"\"\"\n",
    "INSERT INTO banking.accounts VALUES\n",
    " (100,1,'2020-01-15',NULL),\n",
    " (101,2,'2024-03-01',NULL),\n",
    " (102,3,'2022-06-10',NULL),\n",
    " (103,4,'2023-06-10',NULL)\n",
    "\"\"\"\n",
    "\n",
    "spark.sql(insert_data_account)\n",
    "spark.sql(\"\"\" select * from banking.accounts \"\"\").show()"
   ],
   "id": "492c5aa3b1ab4015",
   "outputs": [
    {
     "name": "stdout",
     "output_type": "stream",
     "text": [
      "+----------+-----------+----------+----------+\n",
      "|account_id|customer_id| open_date|close_date|\n",
      "+----------+-----------+----------+----------+\n",
      "|       103|          4|2023-06-10|      NULL|\n",
      "|       100|          1|2020-01-15|      NULL|\n",
      "|       101|          2|2024-03-01|      NULL|\n",
      "|       102|          3|2022-06-10|      NULL|\n",
      "+----------+-----------+----------+----------+\n",
      "\n"
     ]
    }
   ],
   "execution_count": 57
  },
  {
   "metadata": {
    "ExecuteTime": {
     "end_time": "2025-06-20T10:48:01.407620Z",
     "start_time": "2025-06-20T10:48:00.963547Z"
    }
   },
   "cell_type": "code",
   "source": [
    "\n",
    "transaction_table = f\"\"\"\n",
    "CREATE TABLE if not exists banking.txns (\n",
    "  txn_id INT,\n",
    "  account_id INT,\n",
    "  txn_date DATE,\n",
    "  amount DECIMAL(10,2),\n",
    "  type String\n",
    ") using delta\n",
    "\"\"\"\n",
    "spark.sql(\"drop table if exists banking.txns\")\n",
    "spark.sql(transaction_table)"
   ],
   "id": "cd39f1a4393fab08",
   "outputs": [
    {
     "data": {
      "text/plain": [
       "DataFrame[]"
      ]
     },
     "execution_count": 58,
     "metadata": {},
     "output_type": "execute_result"
    }
   ],
   "execution_count": 58
  },
  {
   "metadata": {
    "ExecuteTime": {
     "end_time": "2025-06-20T10:48:02.894240Z",
     "start_time": "2025-06-20T10:48:01.450173Z"
    }
   },
   "cell_type": "code",
   "source": [
    "insert_into_txn = \"\"\"\n",
    "INSERT INTO banking.txns VALUES\n",
    " (201,100,'2024-10-01',100.00,'deposit'),\n",
    " (202,100,'2025-03-15',200.00,'deposit'),\n",
    " (203,101,'2025-01-10',300.00,'withdrawal'),\n",
    " (204,102,'2023-11-05',400.00,'deposit'),\n",
    "(205,102,'2023-11-06',1100.00,'deposit')\n",
    "\"\"\"\n",
    "spark.sql(insert_into_txn)\n",
    "spark.sql(\"\"\"select * from banking.txns\"\"\").show()"
   ],
   "id": "84d3604d53bde290",
   "outputs": [
    {
     "name": "stdout",
     "output_type": "stream",
     "text": [
      "+------+----------+----------+-------+----------+\n",
      "|txn_id|account_id|  txn_date| amount|      type|\n",
      "+------+----------+----------+-------+----------+\n",
      "|   203|       101|2025-01-10| 300.00|withdrawal|\n",
      "|   201|       100|2024-10-01| 100.00|   deposit|\n",
      "|   204|       102|2023-11-05| 400.00|   deposit|\n",
      "|   205|       102|2023-11-06|1100.00|   deposit|\n",
      "|   202|       100|2025-03-15| 200.00|   deposit|\n",
      "+------+----------+----------+-------+----------+\n",
      "\n"
     ]
    }
   ],
   "execution_count": 59
  },
  {
   "metadata": {},
   "cell_type": "markdown",
   "source": "> Problem: Find accounts with no transactions in the last 12 months (as of 2025-06-18)",
   "id": "8c2e6b6a12e34c2"
  },
  {
   "metadata": {
    "ExecuteTime": {
     "end_time": "2025-06-20T10:48:03.252492Z",
     "start_time": "2025-06-20T10:48:02.979790Z"
    }
   },
   "cell_type": "code",
   "source": [
    "tables = [\"accounts\", \"txns\"]\n",
    "select_tables = [f\"select * from banking.{table}\" for table in tables]\n",
    "for select_table in select_tables:\n",
    "    spark.sql(select_table).show(truncate=False)"
   ],
   "id": "fa6f025ec3896899",
   "outputs": [
    {
     "name": "stdout",
     "output_type": "stream",
     "text": [
      "+----------+-----------+----------+----------+\n",
      "|account_id|customer_id|open_date |close_date|\n",
      "+----------+-----------+----------+----------+\n",
      "|103       |4          |2023-06-10|NULL      |\n",
      "|100       |1          |2020-01-15|NULL      |\n",
      "|101       |2          |2024-03-01|NULL      |\n",
      "|102       |3          |2022-06-10|NULL      |\n",
      "+----------+-----------+----------+----------+\n",
      "\n",
      "+------+----------+----------+-------+----------+\n",
      "|txn_id|account_id|txn_date  |amount |type      |\n",
      "+------+----------+----------+-------+----------+\n",
      "|203   |101       |2025-01-10|300.00 |withdrawal|\n",
      "|201   |100       |2024-10-01|100.00 |deposit   |\n",
      "|204   |102       |2023-11-05|400.00 |deposit   |\n",
      "|205   |102       |2023-11-06|1100.00|deposit   |\n",
      "|202   |100       |2025-03-15|200.00 |deposit   |\n",
      "+------+----------+----------+-------+----------+\n",
      "\n"
     ]
    }
   ],
   "execution_count": 60
  },
  {
   "metadata": {
    "ExecuteTime": {
     "end_time": "2025-06-20T10:48:03.688968Z",
     "start_time": "2025-06-20T10:48:03.278434Z"
    }
   },
   "cell_type": "code",
   "source": [
    "accounts_no_txn_12_months  =  \"\"\"\n",
    "with cte_latest_txn as (\n",
    "select *\n",
    "from (\n",
    "        select account_id,\n",
    "               txn_id,\n",
    "                txn_date,\n",
    "               row_number() over(partition by account_id order by  txn_date desc) as latest_txn\n",
    "        from banking.txns\n",
    "    )\n",
    "where latest_txn = 1\n",
    ")\n",
    "\n",
    "select acc.account_id,\n",
    "       ltxn.txn_date as last_transaction_date,\n",
    "        current_date,\n",
    "       current_date - interval 12 months\n",
    "\n",
    "from banking.accounts as acc\n",
    "left join cte_latest_txn as ltxn\n",
    "on acc.account_id = ltxn.account_id\n",
    "where\n",
    "    ltxn.txn_date < (current_date - interval 12 months )\n",
    "\n",
    "\"\"\"\n",
    "spark.sql(accounts_no_txn_12_months).show(truncate=False)"
   ],
   "id": "a60b4206706bd1e1",
   "outputs": [
    {
     "name": "stdout",
     "output_type": "stream",
     "text": [
      "+----------+---------------------+--------------+------------------------------------+\n",
      "|account_id|last_transaction_date|current_date()|current_date() - INTERVAL '12' MONTH|\n",
      "+----------+---------------------+--------------+------------------------------------+\n",
      "|102       |2023-11-06           |2025-06-20    |2024-06-20                          |\n",
      "+----------+---------------------+--------------+------------------------------------+\n",
      "\n"
     ]
    }
   ],
   "execution_count": 61
  }
 ],
 "metadata": {
  "kernelspec": {
   "display_name": "Python 3",
   "language": "python",
   "name": "python3"
  },
  "language_info": {
   "codemirror_mode": {
    "name": "ipython",
    "version": 2
   },
   "file_extension": ".py",
   "mimetype": "text/x-python",
   "name": "python",
   "nbconvert_exporter": "python",
   "pygments_lexer": "ipython2",
   "version": "2.7.6"
  }
 },
 "nbformat": 4,
 "nbformat_minor": 5
}
